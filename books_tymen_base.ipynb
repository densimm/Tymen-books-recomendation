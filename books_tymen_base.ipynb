{
  "nbformat": 4,
  "nbformat_minor": 0,
  "metadata": {
    "colab": {
      "provenance": [],
      "collapsed_sections": []
    },
    "kernelspec": {
      "name": "python3",
      "display_name": "Python 3"
    },
    "language_info": {
      "name": "python"
    }
  },
  "cells": [
    {
      "cell_type": "code",
      "source": [
        "!pip install -q top2vec\n",
        "!pip install -q umap-learn[plot]\n",
        "!pip install -q sentence_transformers\n",
        "!pip install -q top2vec[sentence_encoders]\n"
      ],
      "metadata": {
        "id": "fzLZIyuBvhLQ"
      },
      "execution_count": null,
      "outputs": []
    },
    {
      "cell_type": "code",
      "execution_count": null,
      "metadata": {
        "id": "weqzL44BtqXP"
      },
      "outputs": [],
      "source": [
        "#load the needed packages and modules \n",
        "import pandas as pd\n",
        "import numpy as np\n",
        "from datetime import date\n",
        "import datetime as dt\n",
        "import IPython.display as display"
      ]
    },
    {
      "cell_type": "code",
      "source": [
        "#Загрузка данных в pandas\n",
        "train_data_path = \"/content/drive/MyDrive/Books recommendations system /train_transactions_extended.csv\"\n",
        "users_data_path = \"/content/drive/MyDrive/Books recommendations system /users.csv\"\n",
        "items_data_path = \"/content/drive/MyDrive/Books recommendations system /items.csv\"\n",
        "#load the data and make sure to change the path for your local directory \n",
        "train_data = pd.read_csv(train_data_path, delimiter=\";\")\n",
        "users_data = pd.read_csv(users_data_path, delimiter=\";\")\n",
        "items_data = pd.read_csv(items_data_path, delimiter=\";\")"
      ],
      "metadata": {
        "id": "bwztfXcBt8zd"
      },
      "execution_count": null,
      "outputs": []
    },
    {
      "cell_type": "code",
      "source": [
        "#Первые пять строк\n",
        "nl = '\\n'\n",
        "print (f\"train data sample {nl}{train_data.head()}\")\n",
        "print (f\"users data sample {nl}{users_data.head()}\")\n",
        "print (f\"items data sample {nl}{items_data.head()}\")"
      ],
      "metadata": {
        "id": "7RE8HRD4uYBF"
      },
      "execution_count": null,
      "outputs": []
    },
    {
      "cell_type": "code",
      "source": [
        "train_data.info()"
      ],
      "metadata": {
        "id": "HOY6RX9SvtQw"
      },
      "execution_count": null,
      "outputs": []
    },
    {
      "cell_type": "code",
      "source": [
        "train_data['type'].unique()"
      ],
      "metadata": {
        "id": "KEXkjapS8C9L"
      },
      "execution_count": null,
      "outputs": []
    },
    {
      "cell_type": "code",
      "source": [
        "train_data['type'] = train_data['type'].replace(to_replace = \"скачка\", value = \"скачивание\")"
      ],
      "metadata": {
        "id": "mMYxyAAuwHAJ"
      },
      "execution_count": null,
      "outputs": []
    },
    {
      "cell_type": "code",
      "source": [
        "print (train_data.isnull())\n",
        "print (train_data.duplicated().sum()) #sum of missing values"
      ],
      "metadata": {
        "id": "M6QxZ69Yv0fI"
      },
      "execution_count": null,
      "outputs": []
    },
    {
      "cell_type": "code",
      "source": [
        "#Агрегирование читательский билет-ids документов\n",
        "agg_func_unique= {'sys_numb': ['unique']}\n",
        "maped_df[\"maped_id\"] = train_data.groupby([\"chb\"]).agg(agg_func_unique)\n",
        "maped_df.head(10)"
      ],
      "metadata": {
        "id": "oUl_ldatu4VF"
      },
      "execution_count": null,
      "outputs": []
    },
    {
      "cell_type": "code",
      "source": [
        "#Подготовка данных для тренировки\n",
        "items_subset = items_data [[\"sys_numb\",\"title\",\"author\"]]\n",
        "train_title_list = train_subset['title'].tolist()\n",
        "train_title_id_list = train_subset['sys_numb'].tolist()"
      ],
      "metadata": {
        "id": "oqy1EqPkyiMR"
      },
      "execution_count": null,
      "outputs": []
    },
    {
      "cell_type": "code",
      "source": [
        "#Тренировка doc2vec модели\n",
        "%%time\n",
        "from top2vec import Top2Vec\n",
        "model = Top2Vec(documents=train_title_list,document_ids=train_title_id_list, min_count=15,ngram_vocab=True,embedding_model='doc2vec', speed=\"deep-learn\",keep_documents=True,use_corpus_file=True, workers=2, verbose=True)\n",
        "display.Audio(url=\"https://ssl.gstatic.com/dictionary/static/pronunciation/2019-10-21/audio/do/done_en_us_1.mp3\", autoplay=True)"
      ],
      "metadata": {
        "id": "ESJjVlToyxPr"
      },
      "execution_count": null,
      "outputs": []
    },
    {
      "cell_type": "code",
      "source": [
        "#Тренировка universal-sentence-encoder-multilingual модели\n",
        "%%time\n",
        "from top2vec import Top2Vec\n",
        "model = Top2Vec(documents=train_title_list,document_ids=train_title_id_list, min_count=15,ngram_vocab=True,embedding_model='universal-sentence-encoder-multilingual', speed=\"deep-learn\",keep_documents=True,use_corpus_file=True, workers=2, verbose=True)\n",
        "display.Audio(url=\"https://ssl.gstatic.com/dictionary/static/pronunciation/2019-10-21/audio/do/done_en_us_1.mp3\", autoplay=True)"
      ],
      "metadata": {
        "id": "f-PmR_FazXqN"
      },
      "execution_count": null,
      "outputs": []
    },
    {
      "cell_type": "code",
      "source": [
        "#Сохранение модели\n",
        "num_topics = model.get_num_topics()\n",
        "model.save(f\"/content/drive/MyDrive/teploteh_corpus/top2vec_biblio_lern_doc2vec_t{num_topics}.dump\")"
      ],
      "metadata": {
        "id": "1-YOT0IM1zY0"
      },
      "execution_count": null,
      "outputs": []
    },
    {
      "cell_type": "code",
      "source": [
        "#Редуцирование модели\n",
        "%%time\n",
        "print (model.get_num_topics())\n",
        "#reduce_num_topics=input()\n",
        "reduce_num_topics=1000\n",
        "print(f\"Количество топиков до редукции {model.get_num_topics()}\")\n",
        "model.hierarchical_topic_reduction(int(reduce_num_topics))\n",
        "print(f\"Koличество топиков после редукции {model.get_num_topics(reduced=True)}\")\n",
        "model.save(f\"/content/drive/MyDrive/teploteh_corpus/top2vec_biblio_doc2vec_reduced_tr{int(reduce_num_topics)}.dump\")\n",
        "print (\"reduced model saved\")\n",
        "display.Audio(url=\"https://ssl.gstatic.com/dictionary/static/pronunciation/2019-10-21/audio/do/done_en_us_1.mp3\", autoplay=True)"
      ],
      "metadata": {
        "id": "mHhbgbeM0_HG"
      },
      "execution_count": null,
      "outputs": []
    },
    {
      "cell_type": "code",
      "source": [
        "#Загрузка модели\n",
        "from top2vec import Top2Vec\n",
        "model = Top2Vec.load(\"/content/drive/MyDrive/teploteh_corpus/top2vec_biblio_doc2vec_reduced_tr1000.dump\")"
      ],
      "metadata": {
        "id": "UsIq9Bho0KvV"
      },
      "execution_count": null,
      "outputs": []
    },
    {
      "cell_type": "code",
      "source": [
        "#Поиск документов по семантической связи\n",
        "model.search_documents_by_documents(doc_ids=[\"RSL01004206702\", \"RSL01000769304\", \"RSL01004211574\"], num_docs=20, doc_ids_neg=None, return_documents=True, use_index=False, ef=None)"
      ],
      "metadata": {
        "id": "su8Kc_gd0aYP"
      },
      "execution_count": null,
      "outputs": []
    },
    {
      "cell_type": "code",
      "source": [
        "#Поиск топиков по ключевым словам\n",
        "topic_words, word_scores, topic_scores, topic_nums = model.search_topics(keywords=[\"медицина\",\"зоология\"], num_topics=5,reduced=False)\n",
        "for topic in topic_nums:\n",
        "    model.generate_topic_wordcloud(topic)"
      ],
      "metadata": {
        "id": "CrUJZXuc036E"
      },
      "execution_count": null,
      "outputs": []
    },
    {
      "cell_type": "code",
      "source": [
        "#Поиск похожих слов\n",
        "words, word_scores = model.similar_words(keywords=[\"космос\"], keywords_neg=[], num_words=20)\n",
        "for word, score in zip(words, word_scores):\n",
        "    print(f\"{word} {score}\")"
      ],
      "metadata": {
        "id": "qzDTCUmc4tyZ"
      },
      "execution_count": null,
      "outputs": []
    },
    {
      "cell_type": "code",
      "source": [
        "#get solutions\n",
        "solution = []\n",
        "for chb, row in maped_df.iterrows():\n",
        "  #print(chb)\n",
        "  for sys_numb in row:\n",
        "    pr = pred_by_vector (sys_numb)\n",
        "  solution.append([chb,pr[2]])\n",
        "print (solution)"
      ],
      "metadata": {
        "id": "k00CTtBa5EwY"
      },
      "execution_count": null,
      "outputs": []
    },
    {
      "cell_type": "markdown",
      "source": [
        "Изучение модели\n"
      ],
      "metadata": {
        "id": "zkC_X0HtCL1P"
      }
    },
    {
      "cell_type": "code",
      "source": [
        "#Использование UMAP (равномерная аппроксимация многообразия и проекция для уменьшения размерности)\n",
        "import pandas as pd\n",
        "import umap\n",
        "_umap = umap.UMAP(n_components=15, n_neighbors=5, min_dist=0.1, metric='cosine',verbose=True)\n",
        "umapdf = pd.DataFrame(_umap.fit_transform(vecdf), index=vecdf.index)\n",
        "print(umapdf.info())"
      ],
      "metadata": {
        "id": "ap1I2OnVCVTz"
      },
      "execution_count": null,
      "outputs": []
    },
    {
      "cell_type": "code",
      "source": [
        "#Использование HDBSCAN (алгоритм кластеризации)\n",
        "import hdbscan\n",
        "_hdbscan = hdbscan.HDBSCAN(min_cluster_size=5)\n",
        "clusters = _hdbscan.fit_predict(umapdf)\n",
        "unique_clusters = np.unique(clusters)\n",
        "\n",
        "print('%d clusters...' % len(unique_clusters))\n",
        "print('Clusters: %s...' % unique_clusters[:100])"
      ],
      "metadata": {
        "id": "DN1kDjnsH1JC"
      },
      "execution_count": null,
      "outputs": []
    },
    {
      "cell_type": "code",
      "source": [
        "from plotly import graph_objs\n",
        "data = [dict(type='histogram', x=clusters)]\n",
        "layout=dict(width=1000, height=300, margin=dict(l=0, t=0, r=0, b=0))\n",
        "figure = graph_objs.Figure(data=data, layout=layout)\n",
        "figure.show()"
      ],
      "metadata": {
        "id": "6mxDWUJJJbFq"
      },
      "execution_count": null,
      "outputs": []
    },
    {
      "cell_type": "code",
      "source": [
        "#Визуализация кластеров\n",
        "from plotly.subplots import make_subplots\n",
        "ALPHA = 0.5\n",
        "\n",
        "figure = make_subplots(rows=1, cols=2)\n",
        "for cluster in unique_clusters:\n",
        "  plotdf =umapdf[clusters == cluster]\n",
        "  figure.add_trace(dict(type='scattergl', mode='markers', x=plotdf[0], y=plotdf[1],\n",
        "                        marker=dict(opacity=ALPHA), name='cluster#%d' % cluster, text=plotdf.index),\n",
        "                   1, 1)\n",
        "  if cluster != -1:\n",
        "    figure.add_trace(dict(type='scattergl', mode='markers', x=plotdf[0], y=plotdf[1],\n",
        "                          marker=dict(opacity=ALPHA), name='cluster#%d' % cluster, text=plotdf.index),\n",
        "                     1, 2)\n",
        "figure.update_layout(width=1000, height=400, showlegend=False, margin=dict(l=0, t=0, r=0, b=0))\n",
        "figure.show()"
      ],
      "metadata": {
        "id": "_bW4wYZWJi_J"
      },
      "execution_count": null,
      "outputs": []
    }
  ]
}